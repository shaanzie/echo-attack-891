{
 "cells": [
  {
   "cell_type": "code",
   "execution_count": 24,
   "id": "f8c2f2f3-fcba-4965-9fb3-0d1b6227153d",
   "metadata": {},
   "outputs": [],
   "source": [
    "import os\n",
    "import pandas as pd\n",
    "import scipy.io\n",
    "\n",
    "final_df = pd.DataFrame()"
   ]
  },
  {
   "cell_type": "code",
   "execution_count": 25,
   "id": "128c891c-197f-43ea-ba55-2156aef5c574",
   "metadata": {},
   "outputs": [],
   "source": [
    "directory_path = '../'\n",
    "y2 = []\n",
    "x2 = []\n",
    "# Walk through all files and subdirectories in the specified directory\n",
    "for root, dirs, files in os.walk(directory_path):\n",
    "    for file_name in files:\n",
    "        # Full path of the file\n",
    "        file_path = os.path.join(root, file_name)\n",
    "\n",
    "        if file_path.endswith('.mat') and 'idle' not in file_path and 'MAC' not in file_path:\n",
    "            try:\n",
    "                mat_data = scipy.io.loadmat(file_path, mat_dtype=True)\n",
    "                cols = [i for i in range(1, 1601)]\n",
    "                df = pd.DataFrame(mat_data['data'], columns = cols)\n",
    "                df['label'] = 0\n",
    "\n",
    "                final_df = pd.concat([final_df, df], ignore_index=True)\n",
    "            except:\n",
    "                print('File: ' + file_path + ' not processed!')"
   ]
  },
  {
   "cell_type": "code",
   "execution_count": 26,
   "id": "0e9b8fab-b476-46be-8b1e-2691b629988f",
   "metadata": {},
   "outputs": [],
   "source": [
    "directory_path = '../idle'\n",
    "\n",
    "# Walk through all files and subdirectories in the specified directory\n",
    "for root, dirs, files in os.walk(directory_path):\n",
    "    for file_name in files:\n",
    "        # Full path of the file\n",
    "        file_path = os.path.join(root, file_name)\n",
    "\n",
    "        if file_path.endswith('.mat'):\n",
    "            try:\n",
    "                mat_data = scipy.io.loadmat(file_path, mat_dtype=True)\n",
    "                cols = [i for i in range(1, 1601)]\n",
    "                df = pd.DataFrame(mat_data['data'], columns = cols)\n",
    "                df['label'] = 1\n",
    "                final_df = pd.concat([final_df, df], ignore_index=True)\n",
    "                # print('File: ' + file_path + '  processed!')\n",
    "\n",
    "            except:\n",
    "                print('File: ' + file_path + ' not processed!')"
   ]
  },
  {
   "cell_type": "code",
   "execution_count": 27,
   "id": "a5eea783-d0bd-43a4-9bf9-1e6c03e5bf95",
   "metadata": {},
   "outputs": [
    {
     "data": {
      "text/html": [
       "<div>\n",
       "<style scoped>\n",
       "    .dataframe tbody tr th:only-of-type {\n",
       "        vertical-align: middle;\n",
       "    }\n",
       "\n",
       "    .dataframe tbody tr th {\n",
       "        vertical-align: top;\n",
       "    }\n",
       "\n",
       "    .dataframe thead th {\n",
       "        text-align: right;\n",
       "    }\n",
       "</style>\n",
       "<table border=\"1\" class=\"dataframe\">\n",
       "  <thead>\n",
       "    <tr style=\"text-align: right;\">\n",
       "      <th></th>\n",
       "      <th>1</th>\n",
       "      <th>2</th>\n",
       "      <th>3</th>\n",
       "      <th>4</th>\n",
       "      <th>5</th>\n",
       "      <th>6</th>\n",
       "      <th>7</th>\n",
       "      <th>8</th>\n",
       "      <th>9</th>\n",
       "      <th>10</th>\n",
       "      <th>...</th>\n",
       "      <th>1592</th>\n",
       "      <th>1593</th>\n",
       "      <th>1594</th>\n",
       "      <th>1595</th>\n",
       "      <th>1596</th>\n",
       "      <th>1597</th>\n",
       "      <th>1598</th>\n",
       "      <th>1599</th>\n",
       "      <th>1600</th>\n",
       "      <th>label</th>\n",
       "    </tr>\n",
       "  </thead>\n",
       "  <tbody>\n",
       "    <tr>\n",
       "      <th>0</th>\n",
       "      <td>-91</td>\n",
       "      <td>-91</td>\n",
       "      <td>-91</td>\n",
       "      <td>-91</td>\n",
       "      <td>-91</td>\n",
       "      <td>-91</td>\n",
       "      <td>-91</td>\n",
       "      <td>-91</td>\n",
       "      <td>-91</td>\n",
       "      <td>-92</td>\n",
       "      <td>...</td>\n",
       "      <td>-91</td>\n",
       "      <td>-91</td>\n",
       "      <td>-91</td>\n",
       "      <td>-91</td>\n",
       "      <td>-90</td>\n",
       "      <td>-91</td>\n",
       "      <td>-91</td>\n",
       "      <td>-91</td>\n",
       "      <td>-92</td>\n",
       "      <td>0</td>\n",
       "    </tr>\n",
       "    <tr>\n",
       "      <th>1</th>\n",
       "      <td>-104</td>\n",
       "      <td>-104</td>\n",
       "      <td>-86</td>\n",
       "      <td>-104</td>\n",
       "      <td>-104</td>\n",
       "      <td>-104</td>\n",
       "      <td>-104</td>\n",
       "      <td>-103</td>\n",
       "      <td>-104</td>\n",
       "      <td>-104</td>\n",
       "      <td>...</td>\n",
       "      <td>-104</td>\n",
       "      <td>-104</td>\n",
       "      <td>-79</td>\n",
       "      <td>-104</td>\n",
       "      <td>-104</td>\n",
       "      <td>-104</td>\n",
       "      <td>-104</td>\n",
       "      <td>-103</td>\n",
       "      <td>-104</td>\n",
       "      <td>0</td>\n",
       "    </tr>\n",
       "    <tr>\n",
       "      <th>2</th>\n",
       "      <td>-99</td>\n",
       "      <td>-99</td>\n",
       "      <td>-99</td>\n",
       "      <td>-99</td>\n",
       "      <td>-99</td>\n",
       "      <td>-99</td>\n",
       "      <td>-99</td>\n",
       "      <td>-100</td>\n",
       "      <td>-99</td>\n",
       "      <td>-99</td>\n",
       "      <td>...</td>\n",
       "      <td>-99</td>\n",
       "      <td>-99</td>\n",
       "      <td>-99</td>\n",
       "      <td>-99</td>\n",
       "      <td>-99</td>\n",
       "      <td>-99</td>\n",
       "      <td>-99</td>\n",
       "      <td>-99</td>\n",
       "      <td>-99</td>\n",
       "      <td>0</td>\n",
       "    </tr>\n",
       "    <tr>\n",
       "      <th>3</th>\n",
       "      <td>-102</td>\n",
       "      <td>-102</td>\n",
       "      <td>-102</td>\n",
       "      <td>-102</td>\n",
       "      <td>-103</td>\n",
       "      <td>-102</td>\n",
       "      <td>-102</td>\n",
       "      <td>-102</td>\n",
       "      <td>-102</td>\n",
       "      <td>-102</td>\n",
       "      <td>...</td>\n",
       "      <td>-102</td>\n",
       "      <td>-102</td>\n",
       "      <td>-103</td>\n",
       "      <td>-102</td>\n",
       "      <td>-102</td>\n",
       "      <td>-102</td>\n",
       "      <td>-102</td>\n",
       "      <td>-102</td>\n",
       "      <td>-102</td>\n",
       "      <td>0</td>\n",
       "    </tr>\n",
       "    <tr>\n",
       "      <th>4</th>\n",
       "      <td>-95</td>\n",
       "      <td>-95</td>\n",
       "      <td>-95</td>\n",
       "      <td>-95</td>\n",
       "      <td>-95</td>\n",
       "      <td>-95</td>\n",
       "      <td>-95</td>\n",
       "      <td>-95</td>\n",
       "      <td>-95</td>\n",
       "      <td>-95</td>\n",
       "      <td>...</td>\n",
       "      <td>-93</td>\n",
       "      <td>-93</td>\n",
       "      <td>-92</td>\n",
       "      <td>-95</td>\n",
       "      <td>-95</td>\n",
       "      <td>-95</td>\n",
       "      <td>-95</td>\n",
       "      <td>-95</td>\n",
       "      <td>-95</td>\n",
       "      <td>0</td>\n",
       "    </tr>\n",
       "  </tbody>\n",
       "</table>\n",
       "<p>5 rows × 1601 columns</p>\n",
       "</div>"
      ],
      "text/plain": [
       "     1    2    3    4    5    6    7    8    9   10  ...  1592  1593  1594  \\\n",
       "0  -91  -91  -91  -91  -91  -91  -91  -91  -91  -92  ...   -91   -91   -91   \n",
       "1 -104 -104  -86 -104 -104 -104 -104 -103 -104 -104  ...  -104  -104   -79   \n",
       "2  -99  -99  -99  -99  -99  -99  -99 -100  -99  -99  ...   -99   -99   -99   \n",
       "3 -102 -102 -102 -102 -103 -102 -102 -102 -102 -102  ...  -102  -102  -103   \n",
       "4  -95  -95  -95  -95  -95  -95  -95  -95  -95  -95  ...   -93   -93   -92   \n",
       "\n",
       "   1595  1596  1597  1598  1599  1600  label  \n",
       "0   -91   -90   -91   -91   -91   -92      0  \n",
       "1  -104  -104  -104  -104  -103  -104      0  \n",
       "2   -99   -99   -99   -99   -99   -99      0  \n",
       "3  -102  -102  -102  -102  -102  -102      0  \n",
       "4   -95   -95   -95   -95   -95   -95      0  \n",
       "\n",
       "[5 rows x 1601 columns]"
      ]
     },
     "execution_count": 27,
     "metadata": {},
     "output_type": "execute_result"
    }
   ],
   "source": [
    "final_df.head()"
   ]
  },
  {
   "cell_type": "code",
   "execution_count": 28,
   "id": "f610db7b-962d-45f3-83b2-50ee865c4984",
   "metadata": {},
   "outputs": [],
   "source": [
    "from sklearn.model_selection import train_test_split\n",
    "from sklearn.tree import DecisionTreeClassifier\n",
    "from sklearn import metrics\n",
    "from sklearn.tree import export_text\n",
    "from imblearn.over_sampling import RandomOverSampler\n",
    "import numpy as np\n",
    "from sklearn.preprocessing import Normalizer\n",
    "from sklearn.datasets import make_classification\n",
    "from sklearn.neural_network import MLPClassifier"
   ]
  },
  {
   "cell_type": "code",
   "execution_count": 29,
   "id": "4843dae6-daa0-4fee-a6a8-0d5d42a2dbdd",
   "metadata": {},
   "outputs": [],
   "source": [
    "target_column = 'label'\n",
    "total = 0\n",
    "\n",
    "X = final_df.drop(target_column, axis=1)\n",
    "y = final_df[target_column]\n",
    "\n",
    "\n",
    "x2 = []\n",
    "y2 = []\n",
    "temp = []\n",
    "temp2 = []"
   ]
  },
  {
   "cell_type": "code",
   "execution_count": 30,
   "id": "4c11c632-24be-4cf2-a2c4-7dde4b52c49d",
   "metadata": {},
   "outputs": [],
   "source": [
    "for index, row in X.iterrows():\n",
    "    for j in row:\n",
    "        temp.append(j)\n",
    "    #print(np.array(row))\n",
    "    #for i in range(1599):\n",
    "    #    temp.append(row[i+1])\n",
    "    #temp2.append(np.array(row))\n",
    "    #temp.clear()\n",
    "    if index % 16 == 0:\n",
    "        if len(temp) < 25600:\n",
    "            m = 0\n",
    "            temp.clear()\n",
    "            continue\n",
    "        x2.append(temp[:])\n",
    "        temp.clear()\n",
    "\n",
    "        temp2.clear()\n",
    "        y2.append(y[index])"
   ]
  },
  {
   "cell_type": "code",
   "execution_count": 31,
   "id": "0dca7aac-5ecc-4f90-bd52-10c080cd4597",
   "metadata": {},
   "outputs": [
    {
     "data": {
      "text/plain": [
       "(499, 499)"
      ]
     },
     "execution_count": 31,
     "metadata": {},
     "output_type": "execute_result"
    }
   ],
   "source": [
    "len(x2), len(y2)"
   ]
  },
  {
   "cell_type": "code",
   "execution_count": 32,
   "id": "c09eaf1e-a675-488b-8c47-3d614b3c87ca",
   "metadata": {},
   "outputs": [],
   "source": [
    "X_train, X_test, y_train, y_test = train_test_split(x2, y2, test_size=0.3, random_state=42)"
   ]
  },
  {
   "cell_type": "code",
   "execution_count": 33,
   "id": "cf849fe9-4401-4817-97b1-7be929247923",
   "metadata": {},
   "outputs": [],
   "source": [
    "ros = RandomOverSampler(random_state=42)\n",
    "X_train_resampled, y_train_resampled = ros.fit_resample(X_train, y_train)"
   ]
  },
  {
   "cell_type": "code",
   "execution_count": 34,
   "id": "edacc925-6dcc-4408-837b-ed9b0bc25be9",
   "metadata": {},
   "outputs": [],
   "source": [
    "from sklearn.ensemble import RandomForestClassifier\n",
    "clf = RandomForestClassifier(max_depth=2, random_state=0)\n",
    "clf.fit(X_train_resampled, y_train_resampled)\n",
    "y_pred = clf.predict(X_test)"
   ]
  },
  {
   "cell_type": "code",
   "execution_count": 35,
   "id": "b0fbf2b6-7d03-4b4c-8412-88526119ff12",
   "metadata": {},
   "outputs": [
    {
     "name": "stdout",
     "output_type": "stream",
     "text": [
      "Accuracy: 0.9866666666666667\n"
     ]
    }
   ],
   "source": [
    "from sklearn.metrics import accuracy_score\n",
    "\n",
    "accuracy = accuracy_score(y_test, y_pred)\n",
    "\n",
    "print(\"Accuracy:\", accuracy)"
   ]
  },
  {
   "cell_type": "code",
   "execution_count": 36,
   "id": "d994a37a-35b8-43db-9070-d321d932aab3",
   "metadata": {},
   "outputs": [
    {
     "data": {
      "image/png": "[encoded data removed]",
      "text/plain": [
       "<Figure size 640x480 with 2 Axes>"
      ]
     },
     "metadata": {},
     "output_type": "display_data"
    }
   ],
   "source": [
    "from sklearn.metrics import confusion_matrix\n",
    "import seaborn as sns\n",
    "import matplotlib.pyplot as plt\n",
    "\n",
    "conf_matrix = confusion_matrix(y_test, y_pred)\n",
    "\n",
    "sns.heatmap(conf_matrix, annot=True, fmt='d', cmap='Blues')\n",
    "plt.xlabel('Predicted Labels')\n",
    "plt.ylabel('True Labels')\n",
    "plt.title('Confusion Matrix')\n",
    "plt.show()"
   ]
  },
  {
   "cell_type": "code",
   "execution_count": null,
   "id": "2939125a-018e-4de0-8e69-cd48cd678b8e",
   "metadata": {},
   "outputs": [],
   "source": []
  }
 ],
 "metadata": {
  "kernelspec": {
   "display_name": "Python 3 (ipykernel)",
   "language": "python",
   "name": "python3"
  },
  "language_info": {
   "codemirror_mode": {
    "name": "ipython",
    "version": 3
   },
   "file_extension": ".py",
   "mimetype": "text/x-python",
   "name": "python",
   "nbconvert_exporter": "python",
   "pygments_lexer": "ipython3",
   "version": "3.8.10"
  }
 },
 "nbformat": 4,
 "nbformat_minor": 5
}
